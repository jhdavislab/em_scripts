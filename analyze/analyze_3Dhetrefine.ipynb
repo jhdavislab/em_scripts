{
 "cells": [
  {
   "cell_type": "code",
   "execution_count": 1,
   "metadata": {},
   "outputs": [],
   "source": [
    "import numpy as np\n",
    "from cryodrgn import mrc\n",
    "import matplotlib.pylab as plt\n",
    "from math import ceil"
   ]
  },
  {
   "cell_type": "markdown",
   "metadata": {},
   "source": [
    "### Analyzing 3D classes from het refine job average from Job 59\n",
    "* Inputs are 10,000 real particles, and the 10,000 syn particles that amplitude normalized - went through a k=2 ab initio and each of those were used as initial models for a new 3D reconstruction"
   ]
  },
  {
   "cell_type": "code",
   "execution_count": 2,
   "metadata": {},
   "outputs": [],
   "source": [
    "def calculate_distribution(base_path, proj_job_name, classes):\n",
    "    cs_file_list = []\n",
    "    class_lookup = {}\n",
    "    all_datasets = []\n",
    "    \n",
    "    for c in classes:\n",
    "        file_name = base_path + str(c) + proj_job_name  + str(c) + '_exported.cs'\n",
    "        cs_file_list.append(file_name)\n",
    "        cs_file = np.load(file_name)\n",
    "        datasets = [str(i).split('/')[-1].split('_')[0] for i in cs_file['blob/path']]\n",
    "        unique_datasets = list(set(datasets))\n",
    "        part_count = {i:datasets.count(i) for i in unique_datasets}\n",
    "        class_lookup[c] = part_count\n",
    "        all_datasets.extend(unique_datasets)\n",
    "    \n",
    "    return class_lookup, list(set(all_datasets))"
   ]
  },
  {
   "cell_type": "code",
   "execution_count": 3,
   "metadata": {},
   "outputs": [],
   "source": [
    "def plot_dist(particle_distribution, total, labels, figsize=(4, 4)):\n",
    "    datasets = list(labels.keys())\n",
    "    datasets.sort()\n",
    "    class_IDs = list(particle_distribution.keys())\n",
    "    figure, axes = plt.subplots(nrows = 1, ncols = len(class_IDs), figsize = figsize)\n",
    "    for c in class_IDs:\n",
    "        to_plot = []\n",
    "        for ds in datasets:\n",
    "            try:\n",
    "                value = particle_distribution[c][ds]\n",
    "            except KeyError:\n",
    "                value = 0\n",
    "            to_plot.append(value)\n",
    "        axes[c].bar([labels[i] for i in datasets], to_plot)\n",
    "        axes[c].set_yticks([0, total, total*2])\n",
    "        axes[c].text(0.5,0.8,'class ' + str(c) + '\\n total = ' + str(np.array(to_plot).sum()), horizontalalignment='center',verticalalignment='center', transform=axes[c].transAxes)\n",
    "    plt.tight_layout()\n",
    "    return figure"
   ]
  },
  {
   "cell_type": "code",
   "execution_count": 4,
   "metadata": {},
   "outputs": [],
   "source": [
    "base_path = '/cold2/jhdavis/apohfh_gan/csparc_testing/P52/exports/groups/P52_J59_particles_class_'\n",
    "proj_job_name = '/P52_J59_particles_class_'\n",
    "classes = [0,1]"
   ]
  },
  {
   "cell_type": "code",
   "execution_count": 5,
   "metadata": {},
   "outputs": [],
   "source": [
    "classes, datasets = calculate_distribution(base_path, proj_job_name, classes)"
   ]
  },
  {
   "cell_type": "code",
   "execution_count": 6,
   "metadata": {},
   "outputs": [
    {
     "data": {
      "text/plain": [
       "{0: {'apoHFH': 10000, 'red': 33}, 1: {'red': 9967}}"
      ]
     },
     "execution_count": 6,
     "metadata": {},
     "output_type": "execute_result"
    }
   ],
   "source": [
    "classes"
   ]
  },
  {
   "cell_type": "code",
   "execution_count": 7,
   "metadata": {},
   "outputs": [],
   "source": [
    "labels = {'apoHFH':'synth', 'red':'real'}"
   ]
  },
  {
   "cell_type": "code",
   "execution_count": 8,
   "metadata": {},
   "outputs": [
    {
     "data": {
      "image/png": "[encoded data removed]",
      "text/plain": [
       "<Figure size 288x288 with 2 Axes>"
      ]
     },
     "metadata": {
      "needs_background": "light"
     },
     "output_type": "display_data"
    }
   ],
   "source": [
    "figure = plot_dist(classes, 10000, labels)"
   ]
  },
  {
   "cell_type": "code",
   "execution_count": 9,
   "metadata": {},
   "outputs": [],
   "source": [
    "figure.savefig('./analysis_het_refine3d.png')"
   ]
  }
 ],
 "metadata": {
  "kernelspec": {
   "display_name": "Python 3",
   "language": "python",
   "name": "python3"
  },
  "language_info": {
   "codemirror_mode": {
    "name": "ipython",
    "version": 3
   },
   "file_extension": ".py",
   "mimetype": "text/x-python",
   "name": "python",
   "nbconvert_exporter": "python",
   "pygments_lexer": "ipython3",
   "version": "3.7.7"
  }
 },
 "nbformat": 4,
 "nbformat_minor": 4
}
